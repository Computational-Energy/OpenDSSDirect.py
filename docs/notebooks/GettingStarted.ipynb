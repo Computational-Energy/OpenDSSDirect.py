{
 "cells": [
  {
   "cell_type": "markdown",
   "metadata": {},
   "source": [
    "# Getting Started"
   ]
  },
  {
   "cell_type": "markdown",
   "metadata": {},
   "source": [
    "`OpenDSSDirect.py` is a Python interface to the C calling interface of a OpenDSS shared library."
   ]
  },
  {
   "cell_type": "markdown",
   "metadata": {},
   "source": [
    "To use `OpenDSSDirect.py` open a Python interpreter and type the following command."
   ]
  },
  {
   "cell_type": "code",
   "execution_count": 1,
   "metadata": {
    "collapsed": true
   },
   "outputs": [],
   "source": [
    "import opendssdirect as dss"
   ]
  },
  {
   "cell_type": "markdown",
   "metadata": {},
   "source": [
    "The `dss` module has submodules that act as interfaces to various components in OpenDSS. The full list of the modules is shown below.\n",
    "\n",
    "    dss.ActiveClass\n",
    "    dss.Basic\n",
    "    dss.Bus\n",
    "    dss.CapControls\n",
    "    dss.Capacitors\n",
    "    dss.Circuit\n",
    "    dss.CktElement\n",
    "    dss.Element\n",
    "    dss.Executive\n",
    "    dss.Fuses\n",
    "    dss.Generators\n",
    "    dss.Isource\n",
    "    dss.Lines\n",
    "    dss.LoadShape\n",
    "    dss.Loads\n",
    "    dss.Meters\n",
    "    dss.Monitors\n",
    "    dss.PDElements\n",
    "    dss.PVsystems\n",
    "    dss.Parser\n",
    "    dss.Properties\n",
    "    dss.Reclosers\n",
    "    dss.RegControls\n",
    "    dss.Relays\n",
    "    dss.Sensors\n",
    "    dss.Settings\n",
    "    dss.Solution\n",
    "    dss.SwtControls\n",
    "    dss.Topology\n",
    "    dss.Transformers\n",
    "    dss.Vsources\n",
    "    dss.XYCurves"
   ]
  },
  {
   "cell_type": "markdown",
   "metadata": {},
   "source": [
    "These modules are the higher level interface to OpenDSS. The `dss` module also has a lower level interface in `dss.dss_lib`. The higher level interface uses the lower level interface to call the appropriate functions. For the most part, a `OpenDSSDirect.py` user will not need to use the lower level interface, but knowing that it exists can be useful."
   ]
  },
  {
   "cell_type": "markdown",
   "metadata": {},
   "source": [
    "The next module to be aware about is `utils`. This implements helper functions that make it easier to use the interface."
   ]
  },
  {
   "cell_type": "code",
   "execution_count": 2,
   "metadata": {
    "collapsed": true
   },
   "outputs": [],
   "source": [
    "from opendssdirect.utils import run_command"
   ]
  },
  {
   "cell_type": "code",
   "execution_count": 3,
   "metadata": {},
   "outputs": [],
   "source": [
    "run_command('Redirect ../../tests/data/13Bus/IEEE13Nodeckt.dss');"
   ]
  },
  {
   "cell_type": "markdown",
   "metadata": {},
   "source": [
    "We can print all bus names using the following."
   ]
  },
  {
   "cell_type": "code",
   "execution_count": 4,
   "metadata": {},
   "outputs": [
    {
     "name": "stdout",
     "output_type": "stream",
     "text": [
      "sourcebus\n",
      "650\n",
      "rg60\n",
      "633\n",
      "634\n",
      "671\n",
      "645\n",
      "646\n",
      "692\n",
      "675\n",
      "611\n",
      "652\n",
      "670\n",
      "632\n",
      "680\n",
      "684\n"
     ]
    }
   ],
   "source": [
    "for i in dss.Circuit.AllBusNames():\n",
    "    print(i)"
   ]
  }
 ],
 "metadata": {
  "kernelspec": {
   "display_name": "Python 3",
   "language": "python",
   "name": "python3"
  },
  "language_info": {
   "codemirror_mode": {
    "name": "ipython",
    "version": 3
   },
   "file_extension": ".py",
   "mimetype": "text/x-python",
   "name": "python",
   "nbconvert_exporter": "python",
   "pygments_lexer": "ipython3",
   "version": "3.6.1"
  }
 },
 "nbformat": 4,
 "nbformat_minor": 2
}
